{
 "cells": [
  {
   "cell_type": "markdown",
   "metadata": {},
   "source": [
    "To double your money in stocks in 5 years, what return would you need?\n",
    "\n",
    "The Compound Annual Growth Rate (CAGR) is:\n",
    "$$ (1 + r)^t = 1 + R $$\n",
    "\n",
    "To double your money in 5 years you would need:\n",
    "$$ (1 + r)^5 = 1 + 1 = 2 $$\n",
    "\n",
    "to find r, you need to exponentiate:\n",
    "$$ r = e^{\\frac{ln(1 + R)}{t}} - 1$$"
   ]
  },
  {
   "cell_type": "code",
   "execution_count": 1,
   "metadata": {
    "collapsed": false
   },
   "outputs": [
    {
     "name": "stdout",
     "output_type": "stream",
     "text": [
      "/Users/rinckd/__Code/__mathCreativity/notebooks\n"
     ]
    }
   ],
   "source": [
    "from IPython.core.display import HTML\n",
    "def css_styling():\n",
    "    styles = open(\"./styles/custom.css\", \"r\").read  ()\n",
    "    return HTML(styles)\n",
    "css_styling()\n",
    "\n",
    "%matplotlib inline\n",
    "import numpy as np\n",
    "import matplotlib.pyplot as plt\n",
    "import os\n",
    "print(os.getcwd())"
   ]
  },
  {
   "cell_type": "code",
   "execution_count": 4,
   "metadata": {
    "collapsed": false
   },
   "outputs": [
    {
     "name": "stdout",
     "output_type": "stream",
     "text": [
      "0.148698354997\n"
     ]
    }
   ],
   "source": [
    "r = np.exp(np.log(1.0 + 1.0)/ 5.0) - 1\n",
    "print (r)"
   ]
  },
  {
   "cell_type": "markdown",
   "metadata": {},
   "source": [
    "0.148 or ~15% is ambitious. The DOW has a long-term CAGR of 8%. \n",
    "Apple, from 1990 to 2013 has a 22% CAGR."
   ]
  },
  {
   "cell_type": "code",
   "execution_count": 7,
   "metadata": {
    "collapsed": false
   },
   "outputs": [
    {
     "name": "stdout",
     "output_type": "stream",
     "text": [
      "0.0352649238414\n"
     ]
    }
   ],
   "source": [
    "r = np.exp(np.log(1.0 + 1.0)/ 20.0) - 1\n",
    "print(r)"
   ]
  },
  {
   "cell_type": "markdown",
   "metadata": {},
   "source": [
    "Doubling your money in 20 years is more realistic. You would only need 3.5% CAGR"
   ]
  },
  {
   "cell_type": "code",
   "execution_count": null,
   "metadata": {
    "collapsed": true
   },
   "outputs": [],
   "source": []
  }
 ],
 "metadata": {
  "kernelspec": {
   "display_name": "Python 3",
   "language": "python",
   "name": "python3"
  },
  "language_info": {
   "codemirror_mode": {
    "name": "ipython",
    "version": 3
   },
   "file_extension": ".py",
   "mimetype": "text/x-python",
   "name": "python",
   "nbconvert_exporter": "python",
   "pygments_lexer": "ipython3",
   "version": "3.5.1"
  }
 },
 "nbformat": 4,
 "nbformat_minor": 0
}
