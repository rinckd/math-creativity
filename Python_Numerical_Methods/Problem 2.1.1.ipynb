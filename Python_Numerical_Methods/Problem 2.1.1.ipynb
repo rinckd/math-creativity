{
 "cells": [
  {
   "cell_type": "code",
   "execution_count": 10,
   "metadata": {
    "collapsed": false
   },
   "outputs": [
    {
     "name": "stdout",
     "output_type": "stream",
     "text": [
      "Part (a): determinant=  -0.000000, determinant/mean(Aij)=  -0.000000\n",
      "Part (b): determinant=   0.647537, determinant/mean(Aij)=   0.267209\n",
      "Part (c): determinant=   4.000000, determinant/mean(Aij)=   3.600000\n",
      "Part (d): determinant=  -0.000000, determinant/mean(Aij)=  -0.000000\n"
     ]
    }
   ],
   "source": [
    "import numpy as np; \n",
    "from LUdecomp import LUdecomp\n",
    "\n",
    "A = np.array( [ \n",
    "              [ 1, 2, 3 ], \n",
    "              [ 2, 3, 4 ], \n",
    "              [ 3, 4, 5 ] ], dtype=float ) \n",
    "mean_aij = np.mean( abs(A.flatten()) ) \n",
    "LUdecomp(A)\n",
    "det = np.prod(np.diag(A))\n",
    "print(\"Part (a): determinant= %10.6f, determinant/mean(Aij)= %10.6f\" \n",
    "      % (det,det/mean_aij))\n",
    "\n",
    "A = np.array( [ \n",
    "              [ 2.11, -0.7, 1.72 ], \n",
    "              [ -1.84, 3.03, 1.29 ], \n",
    "              [ -1.57, 5.25, 4.3 ] ], dtype=float ) \n",
    "mean_aij = np.mean( abs(A.flatten()) ) \n",
    "LUdecomp(A)\n",
    "det = np.prod(np.diag(A))\n",
    "print(\"Part (b): determinant= %10.6f, determinant/mean(Aij)= %10.6f\" \n",
    "      % (det,det/mean_aij))\n",
    "\n",
    "A = np.array( [ \n",
    "              [ 2, -1, 0 ], \n",
    "              [ -1, 2, -1 ], \n",
    "              [ 0, -1, 2 ] ], dtype=float ) \n",
    "mean_aij = np.mean( abs(A.flatten()) ) \n",
    "LUdecomp(A)\n",
    "det = np.prod(np.diag(A))\n",
    "print(\"Part (c): determinant= %10.6f, determinant/mean(Aij)= %10.6f\" \n",
    "      % (det,det/mean_aij))\n",
    "\n",
    "A = np.array( [ \n",
    "             [ 4, 3, -1 ], \n",
    "             [ 7, -2, 3 ], \n",
    "             [ 5, -18, 13 ] ], dtype=float ) \n",
    "mean_aij = np.mean( abs(A.flatten()) ) \n",
    "LUdecomp(A)\n",
    "det = np.prod(np.diag(A))\n",
    "print(\"Part (d): determinant= %10.6f, determinant/mean(Aij)= %10.6f\" \n",
    "      % (det,det/mean_aij))\n"
   ]
  },
  {
   "cell_type": "markdown",
   "metadata": {},
   "source": [
    "<b>Singular Matrix: determinant = 0</b><br>\n",
    "<b>Well conditioned: determinant != 0</b>"
   ]
  },
  {
   "cell_type": "code",
   "execution_count": null,
   "metadata": {
    "collapsed": true
   },
   "outputs": [],
   "source": []
  }
 ],
 "metadata": {
  "anaconda-cloud": {},
  "kernelspec": {
   "display_name": "Python [Root]",
   "language": "python",
   "name": "Python [Root]"
  },
  "language_info": {
   "codemirror_mode": {
    "name": "ipython",
    "version": 3
   },
   "file_extension": ".py",
   "mimetype": "text/x-python",
   "name": "python",
   "nbconvert_exporter": "python",
   "pygments_lexer": "ipython3",
   "version": "3.5.2"
  }
 },
 "nbformat": 4,
 "nbformat_minor": 0
}
